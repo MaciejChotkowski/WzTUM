{
 "cells": [
  {
   "cell_type": "code",
   "execution_count": null,
   "id": "e195cd4e-3c6b-4f6c-8d5b-ab049f17e72c",
   "metadata": {},
   "outputs": [],
   "source": [
    "import pandas as pd\n",
    "import numpy as np\n",
    "import cv2\n",
    "import os\n",
    "import random\n",
    "from concurrent.futures import ThreadPoolExecutor\n",
    "from concurrent.futures import ProcessPoolExecutor\n",
    "import matplotlib.pyplot as plt"
   ]
  },
  {
   "cell_type": "code",
   "execution_count": 1,
   "id": "7e9ddada-3179-40be-bcef-7c93b70e8dce",
   "metadata": {
    "tags": []
   },
   "outputs": [],
   "source": [
    "# images_dir is a dataset directory\n",
    "images_dir = \n",
    "faces_dir = \n",
    "multi_dir = "
   ]
  },
  {
   "cell_type": "code",
   "execution_count": null,
   "id": "b9053bf3-7e9f-46f7-a863-d42bdd61c089",
   "metadata": {},
   "outputs": [],
   "source": [
    "# Destination directory with 200x200 images\n",
    "if not os.path.exists(faces_dir):\n",
    "   os.makedirs(faces_dir)"
   ]
  },
  {
   "cell_type": "code",
   "execution_count": null,
   "id": "b12a938b-d712-435b-8714-78360e76d428",
   "metadata": {},
   "outputs": [],
   "source": [
    "# Destination directory with multi-face images\n",
    "if not os.path.exists(multi_dir):\n",
    "   os.makedirs(multi_dir)"
   ]
  },
  {
   "cell_type": "markdown",
   "id": "65d1efe2-e91e-446c-b911-b6ff71fa3adb",
   "metadata": {},
   "source": [
    "## Cutting images to 200x200"
   ]
  },
  {
   "cell_type": "code",
   "execution_count": null,
   "id": "0a2581ce-720b-4eb3-a483-3dd0c0d085df",
   "metadata": {},
   "outputs": [],
   "source": [
    "modelFile = \"../../Models/face-detection/res10_300x300_ssd_iter_140000_fp16.caffemodel\"\n",
    "configFile = \"../../Models/face-detection/deploy.prototxt\"\n",
    "net = cv2.dnn.readNetFromCaffe(configFile, modelFile)"
   ]
  },
  {
   "cell_type": "code",
   "execution_count": null,
   "id": "780be1c6-b7f0-4c9e-93f2-fe65bda501d6",
   "metadata": {},
   "outputs": [],
   "source": [
    "def cut_images(path, newpath):\n",
    "    if os.path.exists(newpath):\n",
    "        return\n",
    "\n",
    "    f = cv2.imread(path, 1)\n",
    "    blob = cv2.dnn.blobFromImage(cv2.resize(f, (300, 300)), 1.0, (300, 300), (104.0, 177.0, 123.0))\n",
    "    net.setInput(blob)\n",
    "    detections = net.forward()\n",
    "\n",
    "    face_count = 0\n",
    "    for i in range(detections.shape[2]):\n",
    "        confidence = detections[0, 0, i, 2]\n",
    "        if confidence > 0.5:\n",
    "            face_count += 1\n",
    "\n",
    "    if face_count > 1:\n",
    "        img_folder = os.path.join(multi_dir, os.path.splitext(os.path.basename(path))[0])\n",
    "        os.makedirs(img_folder, exist_ok=True)\n",
    "\n",
    "        for i in range(detections.shape[2]):\n",
    "            confidence = detections[0, 0, i, 2]\n",
    "            if confidence > 0.5:\n",
    "                box = detections[0, 0, i, 3:7] * np.array([f.shape[1], f.shape[0], f.shape[1], f.shape[0]])\n",
    "                (x, y, x2, y2) = box.astype(\"int\")\n",
    "                r = (x2-x)-(y2-y)\n",
    "                if(r>0):\n",
    "                    m = (y+y2)//2\n",
    "                    y = m - (x2-x)//2\n",
    "                    y2 = m + (x2-x)//2\n",
    "                elif(r<0):\n",
    "                    m = (x+x2)//2\n",
    "                    x= m - (y2-y)//2\n",
    "                    x2 = m + (y2-y)//2\n",
    "                if(x<0 or y<0):\n",
    "                    continue\n",
    "                extracted_face = f[y:y2, x:x2]\n",
    "                height, width, channels = extracted_face.shape\n",
    "                if(max(width, height)<200):\n",
    "                    continue\n",
    "                extracted_face = cv2.resize(extracted_face, (200,200))\n",
    "                cv2.imwrite(os.path.join(img_folder, f'face_{i}.jpg'), extracted_face)\n",
    "    else:\n",
    "        for i in range(detections.shape[2]):\n",
    "            confidence = detections[0, 0, i, 2]\n",
    "            if confidence > 0.5:\n",
    "                box = detections[0, 0, i, 3:7] * \\\n",
    "                    np.array([f.shape[1], f.shape[0], f.shape[1], f.shape[0]])\n",
    "                (x, y, x2, y2) = box.astype(\"int\")\n",
    "                r = (x2-x)-(y2-y)\n",
    "                if(r > 0):\n",
    "                    m = (y+y2)//2\n",
    "                    y = m - (x2-x)//2\n",
    "                    y2 = m + (x2-x)//2\n",
    "                elif(r < 0):\n",
    "                    m = (x+x2)//2\n",
    "                    x = m - (y2-y)//2\n",
    "                    x2 = m + (y2-y)//2\n",
    "                if(x < 0 or y < 0):\n",
    "                    continue\n",
    "                extracted_face = f[y:y2, x:x2]\n",
    "                height, width, channels = extracted_face.shape\n",
    "                if(max(width, height) < 200):\n",
    "                    continue\n",
    "                extracted_face = cv2.resize(extracted_face, (200, 200))\n",
    "                cv2.imwrite(newpath, extracted_face)\n",
    "[cut_images(os.path.join(images_dir, filename), os.path.join(faces_dir, filename)) for filename in os.listdir(images_dir)]"
   ]
  }
 ],
 "metadata": {
  "kernelspec": {
   "display_name": "imageclassification",
   "language": "python",
   "name": "imageclassification"
  },
  "language_info": {
   "codemirror_mode": {
    "name": "ipython",
    "version": 3
   },
   "file_extension": ".py",
   "mimetype": "text/x-python",
   "name": "python",
   "nbconvert_exporter": "python",
   "pygments_lexer": "ipython3",
   "version": "3.10.0"
  }
 },
 "nbformat": 4,
 "nbformat_minor": 5
}
